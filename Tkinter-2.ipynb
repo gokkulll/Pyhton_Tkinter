{
 "cells": [
  {
   "cell_type": "code",
   "execution_count": 5,
   "id": "073193af-0b50-4711-be0b-3a55cbf217fb",
   "metadata": {},
   "outputs": [],
   "source": [
    "\n",
    "#creating rows and columns\n",
    "\n",
    "from tkinter import *\n",
    "\n",
    "win=Tk()\n",
    "\n",
    "win.title(\"Myfirstapllication\")\n",
    "\n",
    "l1=Label(win,text='Label1',bg='lightblue',fg='blue')\n",
    "l2=Label(win,text='Label2',bg='lightblue',fg='blue')\n",
    "l3=Label(win,text='Label3',bg='lightblue',fg='blue')\n",
    "l4=Label(win,text='Label4',bg='lightblue',fg='blue')\n",
    "l5=Label(win,text='Label5',bg='lightblue',fg='blue')\n",
    "\n",
    "l1.grid(row=0,column=0,padx=5,pady=5)\n",
    "l2.grid(row=0,column=1,padx=5,pady=5)\n",
    "l3.grid(row=0,column=2,padx=5,pady=5)\n",
    "\n",
    "l4.grid(row=1,column=0,padx=5,pady=5)\n",
    "l5.grid(row=1,column=1,padx=5,pady=5)\n",
    "\n",
    "win.mainloop()\n"
   ]
  },
  {
   "cell_type": "code",
   "execution_count": 11,
   "id": "1d74fa96-5f67-4033-9fd0-0990506fed7f",
   "metadata": {},
   "outputs": [],
   "source": [
    "#creating the rowspam and colum spam\n",
    "\n",
    "from tkinter import *\n",
    "\n",
    "win=Tk()\n",
    "\n",
    "win.title(\"Myfirstapllication\")\n",
    "\n",
    "l1=Label(win,text='Label1',bg='lightblue',fg='blue')\n",
    "l2=Label(win,text='Label2',bg='lightblue',fg='blue')\n",
    "l3=Label(win,text='Label3',bg='lightblue',fg='blue')\n",
    "l4=Label(win,text='Label4',bg='lightblue',fg='blue')\n",
    "l5=Label(win,text='Label5',bg='lightblue',fg='blue')\n",
    "l7=Label(win,text='Label7',bg='lightblue',fg='blue')\n",
    "\n",
    "l1.grid(row=0,column=0,rowspan=2,padx=5,pady=5)\n",
    "#l2.grid(row=0,column=1,padx=5,pady=5)\n",
    "l3.grid(row=0,column=2,padx=5,pady=5)\n",
    "\n",
    "l4.grid(row=1,column=0,columnspan=2,padx=5,pady=5)\n",
    "l5.grid(row=1,column=1,padx=5,pady=5)\n",
    "\n",
    "#l7.grid(row=2,column=0,padx=5,pady=5)\n",
    "\n",
    "win.mainloop()\n"
   ]
  },
  {
   "cell_type": "code",
   "execution_count": null,
   "id": "eb1fac43-c202-448d-bf59-4ca469d7dd63",
   "metadata": {},
   "outputs": [],
   "source": []
  }
 ],
 "metadata": {
  "kernelspec": {
   "display_name": "Python 3 (ipykernel)",
   "language": "python",
   "name": "python3"
  },
  "language_info": {
   "codemirror_mode": {
    "name": "ipython",
    "version": 3
   },
   "file_extension": ".py",
   "mimetype": "text/x-python",
   "name": "python",
   "nbconvert_exporter": "python",
   "pygments_lexer": "ipython3",
   "version": "3.8.10"
  }
 },
 "nbformat": 4,
 "nbformat_minor": 5
}
