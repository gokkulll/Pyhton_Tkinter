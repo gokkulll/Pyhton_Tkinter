{
 "cells": [
  {
   "cell_type": "code",
   "execution_count": 29,
   "id": "732a566e-0287-4f45-9ac1-c0867516f0c4",
   "metadata": {},
   "outputs": [],
   "source": [
    "from tkinter import *\n",
    "\n",
    "win=Tk()\n",
    "\n",
    "\n",
    "\n",
    "win.geometry('600x600+100+100')\n",
    "win.title('MyFirstApllication')\n",
    "\n",
    "l = Button(win, text='Hello world',bg='blue',fg='black',font='Ariel,30',width=10,height=10)\n",
    "\n",
    "#l['anchor']='ne'\n",
    "l['justify']='center'\n",
    "l['bd']=30\n",
    "\n",
    "l.pack(pady=100)\n",
    "win.mainloop()"
   ]
  },
  {
   "cell_type": "code",
   "execution_count": 1,
   "id": "27be0e1f-aa21-4b51-bda2-abbc18ebcdd2",
   "metadata": {},
   "outputs": [],
   "source": [
    "from tkinter import *\n",
    "\n",
    "win=Tk()\n",
    "win.title('My first application')\n",
    "\n",
    "l1=Label(win,text='Goerge',bg=\"blue\",fg='black')\n",
    "l1.pack(side=RIGHT)\n",
    "\n",
    "l2=Label(win,text='Will',bg='blue',fg='black')\n",
    "l2.pack(side=LEFT)\n",
    "\n",
    "a1=Label(win,text='Tim',bg='red',fg='black')\n",
    "a1.pack(anchor=NE)\n",
    "\n",
    "a2=Label(win,text='Sam',bg='red',fg='black')\n",
    "a2.pack(anchor=SW)\n",
    "\n",
    "p1 = Label(win,text='Tom',bg='green',fg='black')\n",
    "p1.pack(padx=20,pady=20,ipadx=20,ipady=20)\n",
    "\n",
    "p2 = Label(win,text='Jerry',bg='green',fg='black')\n",
    "p2.pack(padx=20,pady=20,ipadx=20,ipady=20)\n",
    "\n",
    "\n",
    "win.mainloop()"
   ]
  },
  {
   "cell_type": "code",
   "execution_count": 1,
   "id": "cc679f8c-2639-4a62-9e43-652dfde31dee",
   "metadata": {},
   "outputs": [],
   "source": [
    "from tkinter import *\n",
    "\n",
    "win=Tk()\n",
    "win.title('MyfirstApplication')\n",
    "\n",
    "l1=Label(win,text='Label1',bg='yellow',fg='black')\n",
    "l1.pack(side=LEFT, fill=Y,padx=2,pady=2,ipadx=15,ipady=15)\n",
    "\n",
    "l2=Label(win,text='Label2',bg='yellow',fg='black')\n",
    "l2.pack(side=TOP, fill=X,padx=2,pady=2,ipadx=15,ipady=15)\n",
    "\n",
    "l3=Label(win,text='Label3',bg='yellow',fg='black')\n",
    "l3.pack(side=RIGHT)\n",
    "\n",
    "l4=Label(win,text='Label4',bg='yellow',fg='black')\n",
    "l4.pack(side=RIGHT)\n",
    "\n",
    "win.mainloop()\n"
   ]
  },
  {
   "cell_type": "code",
   "execution_count": null,
   "id": "ee8cde05-144f-41e0-a94a-cc93a539bc4a",
   "metadata": {},
   "outputs": [],
   "source": []
  }
 ],
 "metadata": {
  "kernelspec": {
   "display_name": "Python 3 (ipykernel)",
   "language": "python",
   "name": "python3"
  },
  "language_info": {
   "codemirror_mode": {
    "name": "ipython",
    "version": 3
   },
   "file_extension": ".py",
   "mimetype": "text/x-python",
   "name": "python",
   "nbconvert_exporter": "python",
   "pygments_lexer": "ipython3",
   "version": "3.8.10"
  }
 },
 "nbformat": 4,
 "nbformat_minor": 5
}
